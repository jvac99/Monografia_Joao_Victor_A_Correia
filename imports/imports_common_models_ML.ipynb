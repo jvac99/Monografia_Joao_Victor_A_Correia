{
 "cells": [
  {
   "attachments": {},
   "cell_type": "markdown",
   "metadata": {},
   "source": [
    "#### Importações dos modelos de ML"
   ]
  },
  {
   "cell_type": "code",
   "execution_count": 1,
   "metadata": {},
   "outputs": [
    {
     "name": "stdout",
     "output_type": "stream",
     "text": [
      "importing Jupyter notebook from c:\\Users\\joao.correia\\Documents\\Faculdade\\Monografia_Joao_Victor_A_Correia\\imports\\..\\imports\\imports_common_metrics.ipynb\n",
      "importing Jupyter notebook from c:\\Users\\joao.correia\\Documents\\Faculdade\\Monografia_Joao_Victor_A_Correia\\imports\\..\\imports\\imports_common_preprocessing.ipynb\n"
     ]
    }
   ],
   "source": [
    "# Models\n",
    "from sklearn.tree import DecisionTreeClassifier\n",
    "from sklearn.tree import ExtraTreeClassifier\n",
    "\n",
    "from sklearn.ensemble import GradientBoostingClassifier\n",
    "from sklearn.ensemble import RandomForestClassifier\n",
    "from sklearn.ensemble import AdaBoostClassifier\n",
    "from sklearn.ensemble import HistGradientBoostingClassifier\n",
    "\n",
    "from sklearn.neighbors import KNeighborsClassifier\n",
    "from sklearn.naive_bayes import MultinomialNB\n",
    "from sklearn.naive_bayes import GaussianNB\n",
    "\n",
    "from sklearn.linear_model import SGDClassifier\n",
    "from sklearn.linear_model import LogisticRegression\n",
    "from sklearn.linear_model import RidgeClassifier\n",
    "\n",
    "from xgboost import XGBClassifier\n",
    "from lightgbm import LGBMClassifier\n",
    "\n",
    "from sklearn.svm import SVC\n",
    "from sklearn.discriminant_analysis import LinearDiscriminantAnalysis\n",
    "from sklearn.dummy import DummyClassifier\n",
    "\n",
    "import import_ipynb\n",
    "import sys\n",
    "sys.path.append('../')\n",
    "from imports.imports_common_metrics import *\n",
    "from imports.imports_common_preprocessing import *"
   ]
  },
  {
   "cell_type": "code",
   "execution_count": 20,
   "metadata": {},
   "outputs": [],
   "source": [
    "def model_application(model, X_train, y_train, X_test, y_test, target_names):\n",
    "    # Treinar o modelo usando o conjunto de treinamento.\n",
    "    model.fit(X_train, y_train)\n",
    "    \n",
    "    # Fazer previsões no conjunto de teste\n",
    "    y_pred = model.predict(X_test)\n",
    "    \n",
    "    print(model.score(X_test, y_test))\n",
    "    \n",
    "    return application_of_metrics(y_test, y_pred, target_names)"
   ]
  },
  {
   "cell_type": "code",
   "execution_count": null,
   "metadata": {},
   "outputs": [],
   "source": [
    "def kfold_application(model, k, X_train, y_train, X_test, y_test, random_state, target_names):\n",
    "    # Cria um objeto KFold com shuffle=True (embaralhar).\n",
    "    kf = KFold(n_splits = k, shuffle = True, random_state = random_state)\n",
    "\n",
    "    # Realiza a validação cruzada usando o método cross_val_score.\n",
    "    result_scores = cross_val_score(model, X_train, y_train, cv = kf, scoring = 'accuracy', n_jobs = -1)\n",
    "\n",
    "    print(\"K-Fold (R^2) Scores: {0}\".format(result_scores))\n",
    "    print(\"Mean R^2 for Cross-Validation K-Fold: {0}\".format(result_scores.mean()))\n",
    "    \n",
    "     # Fazer previsões no conjunto de teste\n",
    "    y_pred = cross_val_predict(model, X_test, y_test, cv = kf)\n",
    "    \n",
    "    return application_of_metrics(y_test, y_pred, target_names)"
   ]
  },
  {
   "cell_type": "code",
   "execution_count": null,
   "metadata": {},
   "outputs": [],
   "source": [
    "def grid_search_application (model, X_train, y_train, X_test, y_test, k, param_grid, target_names):\n",
    "    # Crie uma instância do GridSearchCV\n",
    "    grid_search = GridSearchCV(model, param_grid, scoring = 'accuracy', cv=2, n_jobs=-1)\n",
    "\n",
    "    # Ajuste o grid search aos dados\n",
    "    grid_search.fit(X_train, y_train)\n",
    "\n",
    "    # Acesse os melhores hiperparâmetros e o melhor modelo\n",
    "    best_params = grid_search.best_params_\n",
    "    best_model = grid_search.best_estimator_\n",
    "\n",
    "    # Fazer previsões no conjunto de teste\n",
    "    y_pred = grid_search.predict(X_test)\n",
    "    \n",
    "    results = {}\n",
    "    \n",
    "    results['metrics'] = application_of_metrics(y_test, y_pred, target_names) \n",
    "    results['best_params'] =  best_params\n",
    "    results['best_estimator'] = best_model\n",
    "    \n",
    "    return results"
   ]
  }
 ],
 "metadata": {
  "kernelspec": {
   "display_name": ".venv",
   "language": "python",
   "name": "python3"
  },
  "language_info": {
   "codemirror_mode": {
    "name": "ipython",
    "version": 3
   },
   "file_extension": ".py",
   "mimetype": "text/x-python",
   "name": "python",
   "nbconvert_exporter": "python",
   "pygments_lexer": "ipython3",
   "version": "3.11.2"
  },
  "orig_nbformat": 4
 },
 "nbformat": 4,
 "nbformat_minor": 2
}
